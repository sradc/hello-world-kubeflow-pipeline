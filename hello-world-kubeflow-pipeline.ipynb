{
 "cells": [
  {
   "attachments": {},
   "cell_type": "markdown",
   "metadata": {},
   "source": [
    "# Hello World Kubeflow Pipeline"
   ]
  },
  {
   "cell_type": "code",
   "execution_count": null,
   "metadata": {},
   "outputs": [],
   "source": [
    "from datetime import datetime\n",
    "from pathlib import Path\n",
    "\n",
    "from google.cloud import aiplatform\n",
    "from google.oauth2 import service_account\n",
    "from kfp.v2 import compiler, dsl\n",
    "from kfp.v2.dsl import pipeline"
   ]
  },
  {
   "attachments": {},
   "cell_type": "markdown",
   "metadata": {},
   "source": [
    "## Config"
   ]
  },
  {
   "cell_type": "code",
   "execution_count": null,
   "metadata": {},
   "outputs": [],
   "source": [
    "# GCP related config\n",
    "PIPELINE_NAME = \"hello-world-kubeflow-pipeline\"\n",
    "BUCKET_NAME = \"my-vertex-playground-bucket\"  # set up beforehand\n",
    "PIPELINE_ROOT = f\"gs://{BUCKET_NAME}/{PIPELINE_NAME}/\"\n",
    "\n",
    "PROJECT_ID = \"open-problems-multimodal\"  # set up beforehand\n",
    "REGION = \"us-central1\"\n",
    "SERVICE_ACCOUNT = (\n",
    "    \"vertex@open-problems-multimodal.iam.gserviceaccount.com\"  # set up beforehand\n",
    ")\n",
    "GCP_CREDENTIALS_PATH = Path().home() / \"keys\" / \"my-vertex-playground-key.json\"\n",
    "\n",
    "# Local path to the compiled pipeline json file\n",
    "PIPELINE_JSON_PATH = \"compiled_pipeline.json\""
   ]
  },
  {
   "attachments": {},
   "cell_type": "markdown",
   "metadata": {},
   "source": [
    "## Components"
   ]
  },
  {
   "cell_type": "code",
   "execution_count": null,
   "metadata": {},
   "outputs": [],
   "source": [
    "@dsl.component(\n",
    "    base_image=\"python:3.10\",\n",
    ")\n",
    "def hello_op(\n",
    "    hello_str: str,\n",
    ") -> str:\n",
    "    return hello_str\n",
    "\n",
    "\n",
    "@dsl.component(\n",
    "    base_image=\"python:3.10\",\n",
    ")\n",
    "def world_op(\n",
    "    hello_str: str,\n",
    ") -> str:\n",
    "    return hello_str + \", world!\""
   ]
  },
  {
   "attachments": {},
   "cell_type": "markdown",
   "metadata": {},
   "source": [
    "## Pipeline"
   ]
  },
  {
   "cell_type": "code",
   "execution_count": null,
   "metadata": {},
   "outputs": [],
   "source": [
    "@pipeline(\n",
    "    name=PIPELINE_NAME,\n",
    "    pipeline_root=PIPELINE_ROOT,\n",
    ")\n",
    "def my_pipeline(hello_str: str):\n",
    "    hello_task = hello_op(hello_str=hello_str).set_memory_limit(\"1G\").set_cpu_limit(\"1\")\n",
    "    world_task = (\n",
    "        world_op(hello_str=hello_task.output).set_memory_limit(\"1G\").set_cpu_limit(\"1\")\n",
    "    )\n",
    "\n",
    "# Compile the pipeline\n",
    "compiler.Compiler().compile(pipeline_func=my_pipeline, package_path=PIPELINE_JSON_PATH)"
   ]
  },
  {
   "attachments": {},
   "cell_type": "markdown",
   "metadata": {},
   "source": [
    "## Submit job"
   ]
  },
  {
   "cell_type": "code",
   "execution_count": null,
   "metadata": {},
   "outputs": [],
   "source": [
    "TIMESTAMP = datetime.now().strftime(\"%Y%m%d-%H%M%S\")\n",
    "JOB_NAME = f\"{PIPELINE_NAME}-{TIMESTAMP}\"\n",
    "credentials = service_account.Credentials.from_service_account_file(\n",
    "    GCP_CREDENTIALS_PATH\n",
    ")\n",
    "job = aiplatform.PipelineJob(\n",
    "    display_name=JOB_NAME,\n",
    "    credentials=credentials,\n",
    "    template_path=PIPELINE_JSON_PATH,\n",
    "    job_id=JOB_NAME,\n",
    "    pipeline_root=PIPELINE_ROOT,\n",
    "    enable_caching=True,\n",
    "    project=PROJECT_ID,\n",
    "    location=REGION,\n",
    "    parameter_values={\"hello_str\": \"Hello\"},\n",
    ")\n",
    "job.submit(service_account=SERVICE_ACCOUNT)"
   ]
  }
 ],
 "metadata": {
  "kernelspec": {
   "display_name": "Python 3",
   "language": "python",
   "name": "python3"
  },
  "language_info": {
   "codemirror_mode": {
    "name": "ipython",
    "version": 3
   },
   "file_extension": ".py",
   "mimetype": "text/x-python",
   "name": "python",
   "nbconvert_exporter": "python",
   "pygments_lexer": "ipython3",
   "version": "3.10.0"
  },
  "orig_nbformat": 4,
  "vscode": {
   "interpreter": {
    "hash": "5c7b89af1651d0b8571dde13640ecdccf7d5a6204171d6ab33e7c296e100e08a"
   }
  }
 },
 "nbformat": 4,
 "nbformat_minor": 2
}
